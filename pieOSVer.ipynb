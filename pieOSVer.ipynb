{
 "cells": [
  {
   "cell_type": "code",
   "execution_count": 1,
   "id": "53bbcdbc",
   "metadata": {},
   "outputs": [],
   "source": [
    "import pandas as pd\n",
    "import numpy as np"
   ]
  },
  {
   "cell_type": "code",
   "execution_count": null,
   "id": "6138318c",
   "metadata": {},
   "outputs": [],
   "source": []
  },
  {
   "cell_type": "code",
   "execution_count": 2,
   "id": "3f559bbd",
   "metadata": {},
   "outputs": [],
   "source": [
    "import matplotlib.pyplot as plt"
   ]
  },
  {
   "cell_type": "markdown",
   "id": "70e0cc94",
   "metadata": {},
   "source": [
    "## Read data into dataframe"
   ]
  },
  {
   "cell_type": "code",
   "execution_count": 38,
   "id": "99b87bf2",
   "metadata": {
    "scrolled": true
   },
   "outputs": [
    {
     "data": {
      "text/html": [
       "<div>\n",
       "<style scoped>\n",
       "    .dataframe tbody tr th:only-of-type {\n",
       "        vertical-align: middle;\n",
       "    }\n",
       "\n",
       "    .dataframe tbody tr th {\n",
       "        vertical-align: top;\n",
       "    }\n",
       "\n",
       "    .dataframe thead th {\n",
       "        text-align: right;\n",
       "    }\n",
       "</style>\n",
       "<table border=\"1\" class=\"dataframe\">\n",
       "  <thead>\n",
       "    <tr style=\"text-align: right;\">\n",
       "      <th></th>\n",
       "      <th>Name</th>\n",
       "      <th>Enabled</th>\n",
       "      <th>DNSHostName</th>\n",
       "      <th>DistinguishedName</th>\n",
       "      <th>System</th>\n",
       "      <th>LastLogonDate</th>\n",
       "      <th>Laps</th>\n",
       "      <th>LapsExpirationDays</th>\n",
       "      <th>LapsExpirationTime</th>\n",
       "    </tr>\n",
       "  </thead>\n",
       "  <tbody>\n",
       "    <tr>\n",
       "      <th>0</th>\n",
       "      <td>SRASRV-DC1</td>\n",
       "      <td>True</td>\n",
       "      <td>SRASRV-DC1.sra.org.sz</td>\n",
       "      <td>CN=SRASRV-DC1,OU=Domain Controllers,DC=sra,DC=...</td>\n",
       "      <td>Windows Server 2008 R2 Enterprise</td>\n",
       "      <td>2022/10/31 02:47</td>\n",
       "      <td>False</td>\n",
       "      <td>NaN</td>\n",
       "      <td>NaN</td>\n",
       "    </tr>\n",
       "    <tr>\n",
       "      <th>1</th>\n",
       "      <td>SRASRV-DC2</td>\n",
       "      <td>True</td>\n",
       "      <td>SRASRV-DC2.sra.org.sz</td>\n",
       "      <td>CN=SRASRV-DC2,OU=Domain Controllers,DC=sra,DC=...</td>\n",
       "      <td>Windows Server 2012 R2 Standard</td>\n",
       "      <td>2022/10/26 09:50</td>\n",
       "      <td>False</td>\n",
       "      <td>NaN</td>\n",
       "      <td>NaN</td>\n",
       "    </tr>\n",
       "    <tr>\n",
       "      <th>2</th>\n",
       "      <td>SRASRV-DC01</td>\n",
       "      <td>True</td>\n",
       "      <td>SRASRV-DC01.sra.org.sz</td>\n",
       "      <td>CN=SRASRV-DC01,OU=Domain Controllers,DC=sra,DC...</td>\n",
       "      <td>Windows Server 2016 Standard</td>\n",
       "      <td>2022/10/30 06:51</td>\n",
       "      <td>False</td>\n",
       "      <td>NaN</td>\n",
       "      <td>NaN</td>\n",
       "    </tr>\n",
       "    <tr>\n",
       "      <th>3</th>\n",
       "      <td>SRASRV-DRM1</td>\n",
       "      <td>True</td>\n",
       "      <td>SRASRV-DRM1.sra.org.sz</td>\n",
       "      <td>CN=SRASRV-DRM1,OU=HQ,OU=Servers,DC=sra,DC=org,...</td>\n",
       "      <td>Windows Server 2012 R2 Standard</td>\n",
       "      <td>2022/11/03 17:28</td>\n",
       "      <td>False</td>\n",
       "      <td>NaN</td>\n",
       "      <td>NaN</td>\n",
       "    </tr>\n",
       "    <tr>\n",
       "      <th>4</th>\n",
       "      <td>SRASRV-BAK1</td>\n",
       "      <td>True</td>\n",
       "      <td>srasrv-bak1.sra.org.sz</td>\n",
       "      <td>CN=SRASRV-BAK1,OU=HQ,OU=Servers,DC=sra,DC=org,...</td>\n",
       "      <td>Windows Server 2019 Standard</td>\n",
       "      <td>2021/12/01 22:27</td>\n",
       "      <td>False</td>\n",
       "      <td>NaN</td>\n",
       "      <td>NaN</td>\n",
       "    </tr>\n",
       "  </tbody>\n",
       "</table>\n",
       "</div>"
      ],
      "text/plain": [
       "          Name  Enabled             DNSHostName  \\\n",
       "0   SRASRV-DC1     True   SRASRV-DC1.sra.org.sz   \n",
       "1   SRASRV-DC2     True   SRASRV-DC2.sra.org.sz   \n",
       "2  SRASRV-DC01     True  SRASRV-DC01.sra.org.sz   \n",
       "3  SRASRV-DRM1     True  SRASRV-DRM1.sra.org.sz   \n",
       "4  SRASRV-BAK1     True  srasrv-bak1.sra.org.sz   \n",
       "\n",
       "                                   DistinguishedName  \\\n",
       "0  CN=SRASRV-DC1,OU=Domain Controllers,DC=sra,DC=...   \n",
       "1  CN=SRASRV-DC2,OU=Domain Controllers,DC=sra,DC=...   \n",
       "2  CN=SRASRV-DC01,OU=Domain Controllers,DC=sra,DC...   \n",
       "3  CN=SRASRV-DRM1,OU=HQ,OU=Servers,DC=sra,DC=org,...   \n",
       "4  CN=SRASRV-BAK1,OU=HQ,OU=Servers,DC=sra,DC=org,...   \n",
       "\n",
       "                              System     LastLogonDate   Laps  \\\n",
       "0  Windows Server 2008 R2 Enterprise  2022/10/31 02:47  False   \n",
       "1    Windows Server 2012 R2 Standard  2022/10/26 09:50  False   \n",
       "2       Windows Server 2016 Standard  2022/10/30 06:51  False   \n",
       "3    Windows Server 2012 R2 Standard  2022/11/03 17:28  False   \n",
       "4       Windows Server 2019 Standard  2021/12/01 22:27  False   \n",
       "\n",
       "   LapsExpirationDays LapsExpirationTime  \n",
       "0                 NaN                NaN  \n",
       "1                 NaN                NaN  \n",
       "2                 NaN                NaN  \n",
       "3                 NaN                NaN  \n",
       "4                 NaN                NaN  "
      ]
     },
     "execution_count": 38,
     "metadata": {},
     "output_type": "execute_result"
    }
   ],
   "source": [
    "df = pd.read_csv('C://Users//vkhumalo//Downloads//OSVer.csv')\n",
    "df.head()"
   ]
  },
  {
   "cell_type": "code",
   "execution_count": null,
   "id": "2063f0b6",
   "metadata": {},
   "outputs": [],
   "source": []
  },
  {
   "cell_type": "code",
   "execution_count": 39,
   "id": "e3cbb4a0",
   "metadata": {
    "scrolled": true
   },
   "outputs": [
    {
     "name": "stdout",
     "output_type": "stream",
     "text": [
      "<class 'pandas.core.frame.DataFrame'>\n",
      "RangeIndex: 742 entries, 0 to 741\n",
      "Data columns (total 9 columns):\n",
      " #   Column              Non-Null Count  Dtype  \n",
      "---  ------              --------------  -----  \n",
      " 0   Name                742 non-null    object \n",
      " 1   Enabled             742 non-null    bool   \n",
      " 2   DNSHostName         739 non-null    object \n",
      " 3   DistinguishedName   742 non-null    object \n",
      " 4   System              742 non-null    object \n",
      " 5   LastLogonDate       739 non-null    object \n",
      " 6   Laps                742 non-null    bool   \n",
      " 7   LapsExpirationDays  531 non-null    float64\n",
      " 8   LapsExpirationTime  531 non-null    object \n",
      "dtypes: bool(2), float64(1), object(6)\n",
      "memory usage: 42.2+ KB\n"
     ]
    }
   ],
   "source": [
    "df.info()"
   ]
  },
  {
   "cell_type": "code",
   "execution_count": 40,
   "id": "6bb013cc",
   "metadata": {},
   "outputs": [
    {
     "name": "stdout",
     "output_type": "stream",
     "text": [
      "<class 'pandas.core.frame.DataFrame'>\n",
      "Int64Index: 78 entries, 0 to 639\n",
      "Data columns (total 9 columns):\n",
      " #   Column              Non-Null Count  Dtype  \n",
      "---  ------              --------------  -----  \n",
      " 0   Name                78 non-null     object \n",
      " 1   Enabled             78 non-null     bool   \n",
      " 2   DNSHostName         78 non-null     object \n",
      " 3   DistinguishedName   78 non-null     object \n",
      " 4   System              78 non-null     object \n",
      " 5   LastLogonDate       78 non-null     object \n",
      " 6   Laps                78 non-null     bool   \n",
      " 7   LapsExpirationDays  0 non-null      float64\n",
      " 8   LapsExpirationTime  0 non-null      object \n",
      "dtypes: bool(2), float64(1), object(6)\n",
      "memory usage: 5.0+ KB\n"
     ]
    }
   ],
   "source": [
    "# Drop servers by Name\n",
    "servers_only = df[df['Name'].str.contains('SRASRV')]\n",
    "servers_only.info()"
   ]
  },
  {
   "cell_type": "code",
   "execution_count": 41,
   "id": "a7929be0",
   "metadata": {
    "scrolled": true
   },
   "outputs": [
    {
     "name": "stdout",
     "output_type": "stream",
     "text": [
      "<class 'pandas.core.frame.DataFrame'>\n",
      "Int64Index: 664 entries, 21 to 741\n",
      "Data columns (total 9 columns):\n",
      " #   Column              Non-Null Count  Dtype  \n",
      "---  ------              --------------  -----  \n",
      " 0   Name                664 non-null    object \n",
      " 1   Enabled             664 non-null    bool   \n",
      " 2   DNSHostName         661 non-null    object \n",
      " 3   DistinguishedName   664 non-null    object \n",
      " 4   System              664 non-null    object \n",
      " 5   LastLogonDate       661 non-null    object \n",
      " 6   Laps                664 non-null    bool   \n",
      " 7   LapsExpirationDays  531 non-null    float64\n",
      " 8   LapsExpirationTime  531 non-null    object \n",
      "dtypes: bool(2), float64(1), object(6)\n",
      "memory usage: 42.8+ KB\n"
     ]
    }
   ],
   "source": [
    "servers_dropped = df[~df['Name'].str.contains('SRASRV')]\n",
    "servers_dropped.info()"
   ]
  },
  {
   "cell_type": "code",
   "execution_count": 42,
   "id": "4cbe1caa",
   "metadata": {
    "scrolled": true
   },
   "outputs": [
    {
     "name": "stdout",
     "output_type": "stream",
     "text": [
      "<class 'pandas.core.frame.DataFrame'>\n",
      "Int64Index: 26 entries, 85 to 709\n",
      "Data columns (total 9 columns):\n",
      " #   Column              Non-Null Count  Dtype  \n",
      "---  ------              --------------  -----  \n",
      " 0   Name                26 non-null     object \n",
      " 1   Enabled             26 non-null     bool   \n",
      " 2   DNSHostName         23 non-null     object \n",
      " 3   DistinguishedName   26 non-null     object \n",
      " 4   System              26 non-null     object \n",
      " 5   LastLogonDate       23 non-null     object \n",
      " 6   Laps                26 non-null     bool   \n",
      " 7   LapsExpirationDays  23 non-null     float64\n",
      " 8   LapsExpirationTime  23 non-null     object \n",
      "dtypes: bool(2), float64(1), object(6)\n",
      "memory usage: 1.7+ KB\n"
     ]
    }
   ],
   "source": [
    "# Check Equipments with Unknown OS Type\n",
    "srv =servers_dropped[servers_dropped['System'].str.contains('Unknown')]\n",
    "srv.info()"
   ]
  },
  {
   "cell_type": "code",
   "execution_count": 44,
   "id": "9c71e6ac",
   "metadata": {},
   "outputs": [
    {
     "name": "stdout",
     "output_type": "stream",
     "text": [
      "<class 'pandas.core.frame.DataFrame'>\n",
      "Int64Index: 638 entries, 21 to 741\n",
      "Data columns (total 9 columns):\n",
      " #   Column              Non-Null Count  Dtype  \n",
      "---  ------              --------------  -----  \n",
      " 0   Name                638 non-null    object \n",
      " 1   Enabled             638 non-null    bool   \n",
      " 2   DNSHostName         638 non-null    object \n",
      " 3   DistinguishedName   638 non-null    object \n",
      " 4   System              638 non-null    object \n",
      " 5   LastLogonDate       638 non-null    object \n",
      " 6   Laps                638 non-null    bool   \n",
      " 7   LapsExpirationDays  508 non-null    float64\n",
      " 8   LapsExpirationTime  508 non-null    object \n",
      "dtypes: bool(2), float64(1), object(6)\n",
      "memory usage: 41.1+ KB\n"
     ]
    }
   ],
   "source": [
    "# Drop Equipments with Unknown OS Type\n",
    "unknown_dropped = servers_dropped[~servers_dropped['System'].str.contains('Unknown')]\n",
    "unknown_dropped.info()"
   ]
  },
  {
   "cell_type": "code",
   "execution_count": 50,
   "id": "ba136bc1",
   "metadata": {
    "scrolled": true
   },
   "outputs": [
    {
     "name": "stdout",
     "output_type": "stream",
     "text": [
      "<class 'pandas.core.frame.DataFrame'>\n",
      "Int64Index: 614 entries, 21 to 740\n",
      "Data columns (total 9 columns):\n",
      " #   Column              Non-Null Count  Dtype  \n",
      "---  ------              --------------  -----  \n",
      " 0   Name                614 non-null    object \n",
      " 1   Enabled             614 non-null    bool   \n",
      " 2   DNSHostName         614 non-null    object \n",
      " 3   DistinguishedName   614 non-null    object \n",
      " 4   System              614 non-null    object \n",
      " 5   LastLogonDate       614 non-null    object \n",
      " 6   Laps                614 non-null    bool   \n",
      " 7   LapsExpirationDays  508 non-null    float64\n",
      " 8   LapsExpirationTime  508 non-null    object \n",
      "dtypes: bool(2), float64(1), object(6)\n",
      "memory usage: 39.6+ KB\n"
     ]
    }
   ],
   "source": [
    "# Drop Equipments with Windows Server OS Type \n",
    "dropped_server = unknown_dropped[~unknown_dropped['System'].str.contains('Windows Server')]\n",
    "dropped_server.info()"
   ]
  },
  {
   "cell_type": "code",
   "execution_count": 75,
   "id": "1a46f825",
   "metadata": {
    "scrolled": true
   },
   "outputs": [
    {
     "data": {
      "text/html": [
       "<div>\n",
       "<style scoped>\n",
       "    .dataframe tbody tr th:only-of-type {\n",
       "        vertical-align: middle;\n",
       "    }\n",
       "\n",
       "    .dataframe tbody tr th {\n",
       "        vertical-align: top;\n",
       "    }\n",
       "\n",
       "    .dataframe thead th {\n",
       "        text-align: right;\n",
       "    }\n",
       "</style>\n",
       "<table border=\"1\" class=\"dataframe\">\n",
       "  <thead>\n",
       "    <tr style=\"text-align: right;\">\n",
       "      <th></th>\n",
       "      <th>Name</th>\n",
       "      <th>Enabled</th>\n",
       "      <th>DNSHostName</th>\n",
       "      <th>DistinguishedName</th>\n",
       "      <th>LastLogonDate</th>\n",
       "      <th>Laps</th>\n",
       "      <th>LapsExpirationDays</th>\n",
       "      <th>LapsExpirationTime</th>\n",
       "    </tr>\n",
       "    <tr>\n",
       "      <th>System</th>\n",
       "      <th></th>\n",
       "      <th></th>\n",
       "      <th></th>\n",
       "      <th></th>\n",
       "      <th></th>\n",
       "      <th></th>\n",
       "      <th></th>\n",
       "      <th></th>\n",
       "    </tr>\n",
       "  </thead>\n",
       "  <tbody>\n",
       "    <tr>\n",
       "      <th>Windows 10 1703</th>\n",
       "      <td>1</td>\n",
       "      <td>1</td>\n",
       "      <td>1</td>\n",
       "      <td>1</td>\n",
       "      <td>1</td>\n",
       "      <td>1</td>\n",
       "      <td>0</td>\n",
       "      <td>0</td>\n",
       "    </tr>\n",
       "    <tr>\n",
       "      <th>Windows 10 1809</th>\n",
       "      <td>1</td>\n",
       "      <td>1</td>\n",
       "      <td>1</td>\n",
       "      <td>1</td>\n",
       "      <td>1</td>\n",
       "      <td>1</td>\n",
       "      <td>0</td>\n",
       "      <td>0</td>\n",
       "    </tr>\n",
       "    <tr>\n",
       "      <th>Windows 10 1903</th>\n",
       "      <td>7</td>\n",
       "      <td>1</td>\n",
       "      <td>7</td>\n",
       "      <td>7</td>\n",
       "      <td>7</td>\n",
       "      <td>2</td>\n",
       "      <td>6</td>\n",
       "      <td>6</td>\n",
       "    </tr>\n",
       "    <tr>\n",
       "      <th>Windows 10 1909</th>\n",
       "      <td>17</td>\n",
       "      <td>1</td>\n",
       "      <td>17</td>\n",
       "      <td>17</td>\n",
       "      <td>17</td>\n",
       "      <td>2</td>\n",
       "      <td>4</td>\n",
       "      <td>4</td>\n",
       "    </tr>\n",
       "    <tr>\n",
       "      <th>Windows 10 2004</th>\n",
       "      <td>30</td>\n",
       "      <td>2</td>\n",
       "      <td>30</td>\n",
       "      <td>30</td>\n",
       "      <td>30</td>\n",
       "      <td>2</td>\n",
       "      <td>13</td>\n",
       "      <td>17</td>\n",
       "    </tr>\n",
       "    <tr>\n",
       "      <th>Windows 10 20H2</th>\n",
       "      <td>140</td>\n",
       "      <td>1</td>\n",
       "      <td>140</td>\n",
       "      <td>140</td>\n",
       "      <td>123</td>\n",
       "      <td>2</td>\n",
       "      <td>33</td>\n",
       "      <td>114</td>\n",
       "    </tr>\n",
       "    <tr>\n",
       "      <th>Windows 10 21H1</th>\n",
       "      <td>101</td>\n",
       "      <td>1</td>\n",
       "      <td>101</td>\n",
       "      <td>101</td>\n",
       "      <td>99</td>\n",
       "      <td>2</td>\n",
       "      <td>21</td>\n",
       "      <td>89</td>\n",
       "    </tr>\n",
       "    <tr>\n",
       "      <th>Windows 10 21H2</th>\n",
       "      <td>242</td>\n",
       "      <td>1</td>\n",
       "      <td>242</td>\n",
       "      <td>242</td>\n",
       "      <td>228</td>\n",
       "      <td>2</td>\n",
       "      <td>38</td>\n",
       "      <td>202</td>\n",
       "    </tr>\n",
       "    <tr>\n",
       "      <th>Windows 11</th>\n",
       "      <td>74</td>\n",
       "      <td>2</td>\n",
       "      <td>74</td>\n",
       "      <td>74</td>\n",
       "      <td>71</td>\n",
       "      <td>2</td>\n",
       "      <td>22</td>\n",
       "      <td>68</td>\n",
       "    </tr>\n",
       "    <tr>\n",
       "      <th>Windows 8.1 Pro</th>\n",
       "      <td>1</td>\n",
       "      <td>1</td>\n",
       "      <td>1</td>\n",
       "      <td>1</td>\n",
       "      <td>1</td>\n",
       "      <td>1</td>\n",
       "      <td>0</td>\n",
       "      <td>0</td>\n",
       "    </tr>\n",
       "  </tbody>\n",
       "</table>\n",
       "</div>"
      ],
      "text/plain": [
       "                 Name  Enabled  DNSHostName  DistinguishedName  LastLogonDate  \\\n",
       "System                                                                          \n",
       "Windows 10 1703     1        1            1                  1              1   \n",
       "Windows 10 1809     1        1            1                  1              1   \n",
       "Windows 10 1903     7        1            7                  7              7   \n",
       "Windows 10 1909    17        1           17                 17             17   \n",
       "Windows 10 2004    30        2           30                 30             30   \n",
       "Windows 10 20H2   140        1          140                140            123   \n",
       "Windows 10 21H1   101        1          101                101             99   \n",
       "Windows 10 21H2   242        1          242                242            228   \n",
       "Windows 11         74        2           74                 74             71   \n",
       "Windows 8.1 Pro     1        1            1                  1              1   \n",
       "\n",
       "                 Laps  LapsExpirationDays  LapsExpirationTime  \n",
       "System                                                         \n",
       "Windows 10 1703     1                   0                   0  \n",
       "Windows 10 1809     1                   0                   0  \n",
       "Windows 10 1903     2                   6                   6  \n",
       "Windows 10 1909     2                   4                   4  \n",
       "Windows 10 2004     2                  13                  17  \n",
       "Windows 10 20H2     2                  33                 114  \n",
       "Windows 10 21H1     2                  21                  89  \n",
       "Windows 10 21H2     2                  38                 202  \n",
       "Windows 11          2                  22                  68  \n",
       "Windows 8.1 Pro     1                   0                   0  "
      ]
     },
     "execution_count": 75,
     "metadata": {},
     "output_type": "execute_result"
    }
   ],
   "source": [
    "# Group by System\n",
    "grouped_df = dropped_server.groupby('System').nunique()\n",
    "grouped_df"
   ]
  },
  {
   "cell_type": "code",
   "execution_count": 82,
   "id": "fa7f2c2b",
   "metadata": {
    "scrolled": true
   },
   "outputs": [
    {
     "data": {
      "text/plain": [
       "System\n",
       "Windows 10 1703      1\n",
       "Windows 10 1809      1\n",
       "Windows 10 1903      7\n",
       "Windows 10 1909     17\n",
       "Windows 10 2004     30\n",
       "Windows 10 20H2    140\n",
       "Windows 10 21H1    101\n",
       "Windows 10 21H2    242\n",
       "Windows 11          74\n",
       "Windows 8.1 Pro      1\n",
       "Name: Name, dtype: int64"
      ]
     },
     "execution_count": 82,
     "metadata": {},
     "output_type": "execute_result"
    }
   ],
   "source": [
    "Name_df = dropped_server.groupby('System')['Name'].nunique()\n",
    "Name_df"
   ]
  },
  {
   "cell_type": "code",
   "execution_count": null,
   "id": "c4423394",
   "metadata": {},
   "outputs": [],
   "source": [
    "# Get Count of each System Type"
   ]
  },
  {
   "cell_type": "code",
   "execution_count": 83,
   "id": "21e0de2f",
   "metadata": {
    "scrolled": true
   },
   "outputs": [
    {
     "data": {
      "text/plain": [
       "1"
      ]
     },
     "execution_count": 83,
     "metadata": {},
     "output_type": "execute_result"
    }
   ],
   "source": [
    "count_1703 = dropped_server[dropped_server['System'] == 'Windows 10 1703'].count()['System']\n",
    "count_1703"
   ]
  },
  {
   "cell_type": "code",
   "execution_count": 84,
   "id": "d0c49592",
   "metadata": {},
   "outputs": [
    {
     "data": {
      "text/plain": [
       "1"
      ]
     },
     "execution_count": 84,
     "metadata": {},
     "output_type": "execute_result"
    }
   ],
   "source": [
    "count_1809 = dropped_server[dropped_server['System'] == 'Windows 10 1809'].count()['System']\n",
    "count_1809"
   ]
  },
  {
   "cell_type": "code",
   "execution_count": 85,
   "id": "a034e86b",
   "metadata": {},
   "outputs": [
    {
     "data": {
      "text/plain": [
       "7"
      ]
     },
     "execution_count": 85,
     "metadata": {},
     "output_type": "execute_result"
    }
   ],
   "source": [
    "count_1903 = dropped_server[dropped_server['System'] == 'Windows 10 1903'].count()['System']\n",
    "count_1903"
   ]
  },
  {
   "cell_type": "code",
   "execution_count": 86,
   "id": "14d06d34",
   "metadata": {},
   "outputs": [
    {
     "data": {
      "text/plain": [
       "17"
      ]
     },
     "execution_count": 86,
     "metadata": {},
     "output_type": "execute_result"
    }
   ],
   "source": [
    "count_1909 = dropped_server[dropped_server['System'] == 'Windows 10 1909'].count()['System']\n",
    "count_1909"
   ]
  },
  {
   "cell_type": "code",
   "execution_count": 87,
   "id": "5b3a2be8",
   "metadata": {},
   "outputs": [
    {
     "data": {
      "text/plain": [
       "30"
      ]
     },
     "execution_count": 87,
     "metadata": {},
     "output_type": "execute_result"
    }
   ],
   "source": [
    "count_2004 = dropped_server[dropped_server['System'] == 'Windows 10 2004'].count()['System']\n",
    "count_2004"
   ]
  },
  {
   "cell_type": "code",
   "execution_count": 88,
   "id": "fc36fd88",
   "metadata": {},
   "outputs": [
    {
     "data": {
      "text/plain": [
       "140"
      ]
     },
     "execution_count": 88,
     "metadata": {},
     "output_type": "execute_result"
    }
   ],
   "source": [
    "count_20H2 = dropped_server[dropped_server['System'] == 'Windows 10 20H2'].count()['System']\n",
    "count_20H2"
   ]
  },
  {
   "cell_type": "code",
   "execution_count": 89,
   "id": "ec36934b",
   "metadata": {},
   "outputs": [
    {
     "data": {
      "text/plain": [
       "101"
      ]
     },
     "execution_count": 89,
     "metadata": {},
     "output_type": "execute_result"
    }
   ],
   "source": [
    "count_21H1 = dropped_server[dropped_server['System'] == 'Windows 10 21H1'].count()['System']\n",
    "count_21H1"
   ]
  },
  {
   "cell_type": "code",
   "execution_count": 90,
   "id": "e0eab04f",
   "metadata": {},
   "outputs": [
    {
     "data": {
      "text/plain": [
       "242"
      ]
     },
     "execution_count": 90,
     "metadata": {},
     "output_type": "execute_result"
    }
   ],
   "source": [
    "count_21H2 = dropped_server[dropped_server['System'] == 'Windows 10 21H2'].count()['System']\n",
    "count_21H2"
   ]
  },
  {
   "cell_type": "code",
   "execution_count": 91,
   "id": "ba026aba",
   "metadata": {},
   "outputs": [
    {
     "data": {
      "text/plain": [
       "74"
      ]
     },
     "execution_count": 91,
     "metadata": {},
     "output_type": "execute_result"
    }
   ],
   "source": [
    "count_11 = dropped_server[dropped_server['System'] == 'Windows 11'].count()['System']\n",
    "count_11"
   ]
  },
  {
   "cell_type": "code",
   "execution_count": 92,
   "id": "231c0d35",
   "metadata": {},
   "outputs": [
    {
     "data": {
      "text/plain": [
       "1"
      ]
     },
     "execution_count": 92,
     "metadata": {},
     "output_type": "execute_result"
    }
   ],
   "source": [
    "count_Pro  = dropped_server[dropped_server['System'] == 'Windows 8.1 Pro'].count()['System']\n",
    "count_Pro "
   ]
  },
  {
   "cell_type": "code",
   "execution_count": 10,
   "id": "0e2d05ca",
   "metadata": {},
   "outputs": [],
   "source": [
    "total = count_Pro"
   ]
  },
  {
   "cell_type": "code",
   "execution_count": 11,
   "id": "8ca18cf9",
   "metadata": {},
   "outputs": [
    {
     "name": "stdout",
     "output_type": "stream",
     "text": [
      "<class 'pandas.core.frame.DataFrame'>\n",
      "RangeIndex: 742 entries, 0 to 741\n",
      "Data columns (total 9 columns):\n",
      " #   Column              Non-Null Count  Dtype  \n",
      "---  ------              --------------  -----  \n",
      " 0   Name                742 non-null    object \n",
      " 1   Enabled             742 non-null    bool   \n",
      " 2   DNSHostName         739 non-null    object \n",
      " 3   DistinguishedName   742 non-null    object \n",
      " 4   System              742 non-null    object \n",
      " 5   LastLogonDate       739 non-null    object \n",
      " 6   Laps                742 non-null    bool   \n",
      " 7   LapsExpirationDays  531 non-null    float64\n",
      " 8   LapsExpirationTime  531 non-null    object \n",
      "dtypes: bool(2), float64(1), object(6)\n",
      "memory usage: 42.2+ KB\n"
     ]
    }
   ],
   "source": [
    "df.info()"
   ]
  },
  {
   "cell_type": "code",
   "execution_count": 125,
   "id": "0bdaa227",
   "metadata": {},
   "outputs": [
    {
     "data": {
      "image/png": "[encoded data removed]",
      "text/plain": [
       "<Figure size 1080x1080 with 1 Axes>"
      ]
     },
     "metadata": {},
     "output_type": "display_data"
    }
   ],
   "source": [
    "# Plot Pie Chart\n",
    "y = np.array([count_1703,count_1809,count_1903,count_1909,count_2004,count_20H2,count_21H1,count_21H2,count_11,count_Pro])\n",
    "mylabels = ['Windows 10 1703', 'Windows 10 1809', 'Windows 10 1903', 'Windows 10 1909', 'Windows 10 2004', 'Windows 10 20H2','Windows 10 21H1','Windows 10 21H2','Windows 11          ','Windows 8.1 Pro    ']\n",
    "plt.figure(figsize=(15,15))\n",
    "j = []\n",
    "for i in y:\n",
    "    j.append(i/614 * 100)   \n",
    "labels = [f'{l}, {s:0.1f}%' for l, s in zip(mylabels, j)]\n",
    "plt.pie(y)\n",
    "plt.legend(labels)\n",
    "plt.savefig(\"figure200.png\")\n",
    "plt.show() \n",
    "\n",
    "\n",
    "\n",
    "    "
   ]
  },
  {
   "cell_type": "code",
   "execution_count": 27,
   "id": "1a6b76fe",
   "metadata": {},
   "outputs": [
    {
     "data": {
      "text/plain": [
       "<Figure size 432x288 with 0 Axes>"
      ]
     },
     "metadata": {},
     "output_type": "display_data"
    }
   ],
   "source": []
  },
  {
   "cell_type": "code",
   "execution_count": null,
   "id": "5519b10f",
   "metadata": {},
   "outputs": [],
   "source": []
  }
 ],
 "metadata": {
  "kernelspec": {
   "display_name": "Python 3 (ipykernel)",
   "language": "python",
   "name": "python3"
  },
  "language_info": {
   "codemirror_mode": {
    "name": "ipython",
    "version": 3
   },
   "file_extension": ".py",
   "mimetype": "text/x-python",
   "name": "python",
   "nbconvert_exporter": "python",
   "pygments_lexer": "ipython3",
   "version": "3.9.12"
  }
 },
 "nbformat": 4,
 "nbformat_minor": 5
}
